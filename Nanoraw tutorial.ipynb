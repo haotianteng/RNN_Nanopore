{
 "cells": [
  {
   "cell_type": "markdown",
   "metadata": {},
   "source": [
    "# Getting labelled data for nanopore reads\n",
    "This is a guide predominatley on how to use the package `nanoraw`. Specifically, a forked version that I have made some modifications to.  \n",
    "This program reads in a FAST5 file and maps it to a given reference genome, giving you a corrected version of your nanopore read.  \n"
   ]
  },
  {
   "cell_type": "markdown",
   "metadata": {},
   "source": [
    "## Installation\n",
    "We have installed the modified version of `nanoraw` on NeCTAR already, but there is command to set up a vitrual environment that you need to use before you use it.  \n",
    "\n",
    ">```$ . /sw/python/venv/bin/activate```  \n",
    "\n",
    "This command should be added as the first thing to be run in any script you set up that will use `nanoraw` on the NeCTAR cluster. **Notice the dot at the beginning of the command**\n"
   ]
  },
  {
   "cell_type": "markdown",
   "metadata": {},
   "source": [
    "### Installation on your personal computer"
   ]
  },
  {
   "cell_type": "markdown",
   "metadata": {},
   "source": [
    "If you would like to install it on your personal machine, run the following code to install my modified version:"
   ]
  },
  {
   "cell_type": "code",
   "execution_count": 2,
   "metadata": {
    "collapsed": true
   },
   "outputs": [
    {
     "name": "stdout",
     "output_type": "stream",
     "text": [
      "Collecting git+https://github.com/mbhall88/nanoraw.git\n",
      "  Cloning https://github.com/mbhall88/nanoraw.git to /var/folders/gd/t7fyl03d5cbc0ckrw08lzw440000gn/T/pip-_DgfYL-build\n",
      "Requirement already satisfied (use --upgrade to upgrade): h5py in /Users/mbhall88/Dropbox/Programs/anaconda/lib/python2.7/site-packages (from nanoraw==0.1)\n",
      "Requirement already satisfied (use --upgrade to upgrade): rpy2 in /Users/mbhall88/Dropbox/Programs/anaconda/lib/python2.7/site-packages (from nanoraw==0.1)\n",
      "Requirement already satisfied (use --upgrade to upgrade): numpy in /Users/mbhall88/Dropbox/Programs/anaconda/lib/python2.7/site-packages (from nanoraw==0.1)\n",
      "Requirement already satisfied (use --upgrade to upgrade): six in /Users/mbhall88/Dropbox/Programs/anaconda/lib/python2.7/site-packages (from h5py->nanoraw==0.1)\n",
      "Requirement already satisfied (use --upgrade to upgrade): singledispatch in /Users/mbhall88/Dropbox/Programs/anaconda/lib/python2.7/site-packages (from rpy2->nanoraw==0.1)\n",
      "Installing collected packages: nanoraw\n",
      "  Running setup.py install for nanoraw ... \u001b[?25l-\b \b\\\b \bdone\n",
      "\u001b[?25hSuccessfully installed nanoraw-0.1\n"
     ]
    }
   ],
   "source": [
    "!pip install git+https://github.com/mbhall88/nanoraw.git"
   ]
  },
  {
   "cell_type": "markdown",
   "metadata": {},
   "source": [
    "If you want to run this on your local machine you'll also need to have `graphmap` installed which can be done from  https://github.com/isovic/graphmap  "
   ]
  },
  {
   "cell_type": "markdown",
   "metadata": {},
   "source": [
    "## Usage\n",
    "We are only really concerned with on main function within the package - `correct_raw_data` - in the module `correct_raw`.  \n",
    "This function, given the correct flags, will return a numpy array with each row being an event with the mean, stdev, length, and nucleotide for that event.  \n",
    "```def correct_raw_data(\n",
    "        filename, genome_filename, graphmap_path, basecall_group,\n",
    "        corrected_group, rmStayStates=True, outlier_threshold=5,\n",
    "        timeout=None, min_event_obs=4, num_cpts_limit=None,\n",
    "        overwrite=True, in_place=True):```  \n",
    "The arguments this function takes will be explained by way of example."
   ]
  },
  {
   "cell_type": "code",
   "execution_count": null,
   "metadata": {
    "collapsed": true
   },
   "outputs": [],
   "source": [
    "import numpy as np\n",
    "from nanoraw import correct_raw as cr\n",
    "fName = \"IMB14_011406_LT_20160928_FNFAB27163_MN17279_mux_scan_GN_003_R9_280916_65776_ch27_read13_strand.fast5\"\n",
    "ref = \"pacbio_ref.fa\"\n",
    "gmap_dir = \"/Users/mbhall88/Dropbox/Documents/Bioinformatics/graphmap/bin/Mac/graphmap\"\n",
    "b_group = \"Basecall_1D_000\"\n",
    "c_group = \"RawGenomeCorrected_000\"\n",
    "foo = cr.correct_raw_data(fName, ref, gmap_dir, b_group,\n",
    "                          c_group, in_place = False)\n",
    "\n",
    "# names of the columns in the returned numpy array\n",
    "col_names = np.array([\"norm_mean\", \"norm_stdev\", \"start\",\n",
    "                        \"length\", \"base\"])\n",
    "\n",
    "print foo"
   ]
  },
  {
   "cell_type": "markdown",
   "metadata": {},
   "source": [
    "In the above usage example the main thing to be aware of is the `False` flag for the `in_place` argument. By setting this to False, the function will output a numpy array. The default is actually `True` and if left as such will override the FAST5 file. As such **make a copy of some FAST5 files and play around with this function before running any scripts on the real files**. We do not want to have this set to `True` as writing a new copy of every FAST5 file will be very time consuming, and unnecessary for our purposes."
   ]
  },
  {
   "cell_type": "markdown",
   "metadata": {},
   "source": [
    "### Graphmap path on NeCTAR\n",
    "`Graphmap` is installed on NeCTAR already and the path is  \n",
    ">```/sw/graphmap/current/bin/graphmap```\n"
   ]
  },
  {
   "cell_type": "markdown",
   "metadata": {},
   "source": [
    "**A couple of last things...**  \n",
    "I'll give you some suggested code (which you may have a better method for) for running this function over a selection of FAST5 files.  \n",
    "Make sure your python file is in the directory containing the FAST5 files you want to run the function over. Running the following python code will return a list of all of the FAST5 files in your current directory and then you can run the function over whatever subset you want."
   ]
  },
  {
   "cell_type": "code",
   "execution_count": null,
   "metadata": {
    "collapsed": true
   },
   "outputs": [],
   "source": [
    "import os\n",
    "cwd = os.getcwd()\n",
    "f5_files = [f for f in os.listdir(cwd) if f.endswith('.fast5')]"
   ]
  },
  {
   "cell_type": "markdown",
   "metadata": {},
   "source": [
    "### Final remarks\n",
    "This labelled data does not have any methylation information in it at this point, and there may be some issues with the way `nanoraw` deals with gaps in the alignment, but for now this should give you something to start running your NN on.  \n",
    "This is a link to the original `nanoraw` github repo - https://github.com/marcus1487/nanoraw  \n",
    "Let me know if you need anything else."
   ]
  },
  {
   "cell_type": "code",
   "execution_count": null,
   "metadata": {
    "collapsed": true
   },
   "outputs": [],
   "source": []
  }
 ],
 "metadata": {
  "anaconda-cloud": {},
  "kernelspec": {
   "display_name": "Python [default]",
   "language": "python",
   "name": "python2"
  },
  "language_info": {
   "codemirror_mode": {
    "name": "ipython",
    "version": 2
   },
   "file_extension": ".py",
   "mimetype": "text/x-python",
   "name": "python",
   "nbconvert_exporter": "python",
   "pygments_lexer": "ipython2",
   "version": "2.7.12"
  }
 },
 "nbformat": 4,
 "nbformat_minor": 0
}
